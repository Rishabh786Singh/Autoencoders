{
  "nbformat": 4,
  "nbformat_minor": 0,
  "metadata": {
    "colab": {
      "name": "Autoencoders.ipynb",
      "version": "0.3.2",
      "provenance": [],
      "collapsed_sections": [],
      "include_colab_link": true
    },
    "kernelspec": {
      "name": "python3",
      "display_name": "Python 3"
    },
    "accelerator": "GPU"
  },
  "cells": [
    {
      "cell_type": "markdown",
      "metadata": {
        "id": "view-in-github",
        "colab_type": "text"
      },
      "source": [
        "<a href=\"https://colab.research.google.com/github/Rishabh786Singh/Autoencoders/blob/master/Autoencoders.ipynb\" target=\"_parent\"><img src=\"https://colab.research.google.com/assets/colab-badge.svg\" alt=\"Open In Colab\"/></a>"
      ]
    },
    {
      "cell_type": "code",
      "metadata": {
        "id": "O-6Elak7mX-1",
        "colab_type": "code",
        "colab": {}
      },
      "source": [
        "%matplotlib inline\n",
        "import matplotlib.pyplot as plt\n",
        "import pandas as pd\n",
        "import numpy as np"
      ],
      "execution_count": 0,
      "outputs": []
    },
    {
      "cell_type": "code",
      "metadata": {
        "id": "3fM44UY6mfU9",
        "colab_type": "code",
        "colab": {}
      },
      "source": [
        "from keras.models import Model\n",
        "from keras.layers import Dense, Input\n",
        "from keras.datasets import mnist"
      ],
      "execution_count": 0,
      "outputs": []
    },
    {
      "cell_type": "markdown",
      "metadata": {
        "id": "yd0AibuunD2O",
        "colab_type": "text"
      },
      "source": [
        "# **Utility Functions**"
      ]
    },
    {
      "cell_type": "code",
      "metadata": {
        "id": "3BgocwgSnOw5",
        "colab_type": "code",
        "colab": {}
      },
      "source": [
        "def plot_autoencoder_outputs(autoencoder, n, dims):\n",
        "    decoded_imgs = autoencoder.predict(x_test)\n",
        "\n",
        "    # number of example digits to show\n",
        "    n = 5\n",
        "    plt.figure(figsize=(10, 4.5))\n",
        "    for i in range(n):\n",
        "        # plot original image\n",
        "        ax = plt.subplot(2, n, i + 1)\n",
        "        plt.imshow(x_test[i].reshape(*dims))\n",
        "        plt.gray()\n",
        "        ax.get_xaxis().set_visible(False)\n",
        "        ax.get_yaxis().set_visible(False)\n",
        "        \n",
        "        ax.set_title('Original Images')\n",
        "\n",
        "        # plot reconstruction \n",
        "        ax = plt.subplot(2, n, i + 1 + n)\n",
        "        plt.imshow(decoded_imgs[i].reshape(*dims))\n",
        "        plt.gray()\n",
        "        ax.get_xaxis().set_visible(False)\n",
        "        ax.get_yaxis().set_visible(False)\n",
        "        \n",
        "        ax.set_title('Reconstructed ')\n",
        "    plt.show()"
      ],
      "execution_count": 0,
      "outputs": []
    },
    {
      "cell_type": "markdown",
      "metadata": {
        "id": "1z_ajscKnW05",
        "colab_type": "text"
      },
      "source": [
        "Found it from the blog on medium and found its implementation very attractive .So,I decided to use it and know about its functioning."
      ]
    },
    {
      "cell_type": "markdown",
      "metadata": {
        "id": "ik3SDsFOnxSv",
        "colab_type": "text"
      },
      "source": [
        "# **DEEP AUTOENCODER**"
      ]
    },
    {
      "cell_type": "code",
      "metadata": {
        "id": "gm6oXO_Rn0aA",
        "colab_type": "code",
        "outputId": "5d26be3b-3473-4471-ae8a-5eca96839f47",
        "colab": {
          "base_uri": "https://localhost:8080/",
          "height": 51
        }
      },
      "source": [
        "(x_train, y_train), (x_test, y_test) = mnist.load_data()\n",
        "\n",
        "x_train = x_train.astype('float32') / 255.0\n",
        "x_test = x_test.astype('float32') / 255.0\n",
        "x_train = x_train.reshape((len(x_train), np.prod(x_train[0].shape)))\n",
        "x_test = x_test.reshape((len(x_test), np.prod(x_test[0].shape)))\n",
        "\n",
        "print(x_train.shape)\n",
        "print(x_test.shape)"
      ],
      "execution_count": 29,
      "outputs": [
        {
          "output_type": "stream",
          "text": [
            "(60000, 784)\n",
            "(10000, 784)\n"
          ],
          "name": "stdout"
        }
      ]
    },
    {
      "cell_type": "code",
      "metadata": {
        "id": "gkdUTUVroEKc",
        "colab_type": "code",
        "outputId": "b2440bf5-1240-4b23-c498-8ab05d64d2e1",
        "colab": {
          "base_uri": "https://localhost:8080/",
          "height": 836
        }
      },
      "source": [
        "input_size = 784\n",
        "hidden_size1 = 256\n",
        "hidden_size2 = 128\n",
        "code_size = 32\n",
        "\n",
        "input_img = Input(shape=(input_size,))\n",
        "hidden_1 = Dense(hidden_size1, activation='relu')(input_img)\n",
        "hidden_2=Dense(hidden_size2,activation='relu')(hidden_1)\n",
        "code = Dense(code_size, activation='relu')(hidden_2)\n",
        "hidden_3 = Dense(hidden_size2, activation='relu')(code)\n",
        "hidden_4 = Dense(hidden_size1,activation='relu')(hidden_3)\n",
        "output_img = Dense(input_size, activation='sigmoid')(hidden_4)\n",
        "\n",
        "autoencoder = Model(input_img, output_img)\n",
        "autoencoder.compile(optimizer='adam', loss='binary_crossentropy')\n",
        "autoencoder.fit(x_train, x_train, epochs=15)"
      ],
      "execution_count": 6,
      "outputs": [
        {
          "output_type": "stream",
          "text": [
            "WARNING: Logging before flag parsing goes to stderr.\n",
            "W0819 09:55:25.119204 139904139470720 deprecation_wrapper.py:119] From /usr/local/lib/python3.6/dist-packages/keras/backend/tensorflow_backend.py:74: The name tf.get_default_graph is deprecated. Please use tf.compat.v1.get_default_graph instead.\n",
            "\n",
            "W0819 09:55:25.152159 139904139470720 deprecation_wrapper.py:119] From /usr/local/lib/python3.6/dist-packages/keras/backend/tensorflow_backend.py:517: The name tf.placeholder is deprecated. Please use tf.compat.v1.placeholder instead.\n",
            "\n",
            "W0819 09:55:25.158273 139904139470720 deprecation_wrapper.py:119] From /usr/local/lib/python3.6/dist-packages/keras/backend/tensorflow_backend.py:4138: The name tf.random_uniform is deprecated. Please use tf.random.uniform instead.\n",
            "\n",
            "W0819 09:55:25.235799 139904139470720 deprecation_wrapper.py:119] From /usr/local/lib/python3.6/dist-packages/keras/optimizers.py:790: The name tf.train.Optimizer is deprecated. Please use tf.compat.v1.train.Optimizer instead.\n",
            "\n",
            "W0819 09:55:25.257026 139904139470720 deprecation_wrapper.py:119] From /usr/local/lib/python3.6/dist-packages/keras/backend/tensorflow_backend.py:3376: The name tf.log is deprecated. Please use tf.math.log instead.\n",
            "\n",
            "W0819 09:55:25.263104 139904139470720 deprecation.py:323] From /usr/local/lib/python3.6/dist-packages/tensorflow/python/ops/nn_impl.py:180: add_dispatch_support.<locals>.wrapper (from tensorflow.python.ops.array_ops) is deprecated and will be removed in a future version.\n",
            "Instructions for updating:\n",
            "Use tf.where in 2.0, which has the same broadcast rule as np.where\n",
            "W0819 09:55:25.545183 139904139470720 deprecation_wrapper.py:119] From /usr/local/lib/python3.6/dist-packages/keras/backend/tensorflow_backend.py:986: The name tf.assign_add is deprecated. Please use tf.compat.v1.assign_add instead.\n",
            "\n"
          ],
          "name": "stderr"
        },
        {
          "output_type": "stream",
          "text": [
            "Epoch 1/15\n",
            "60000/60000 [==============================] - 12s 200us/step - loss: 0.1373\n",
            "Epoch 2/15\n",
            "60000/60000 [==============================] - 8s 135us/step - loss: 0.0996\n",
            "Epoch 3/15\n",
            "60000/60000 [==============================] - 8s 129us/step - loss: 0.0926\n",
            "Epoch 4/15\n",
            "60000/60000 [==============================] - 8s 128us/step - loss: 0.0894\n",
            "Epoch 5/15\n",
            "60000/60000 [==============================] - 8s 131us/step - loss: 0.0874\n",
            "Epoch 6/15\n",
            "60000/60000 [==============================] - 8s 130us/step - loss: 0.0860\n",
            "Epoch 7/15\n",
            "60000/60000 [==============================] - 8s 129us/step - loss: 0.0849\n",
            "Epoch 8/15\n",
            "60000/60000 [==============================] - 8s 128us/step - loss: 0.0843\n",
            "Epoch 9/15\n",
            "60000/60000 [==============================] - 8s 128us/step - loss: 0.0838\n",
            "Epoch 10/15\n",
            "60000/60000 [==============================] - 8s 127us/step - loss: 0.0833\n",
            "Epoch 11/15\n",
            "60000/60000 [==============================] - 8s 127us/step - loss: 0.0829\n",
            "Epoch 12/15\n",
            "60000/60000 [==============================] - 8s 128us/step - loss: 0.0825\n",
            "Epoch 13/15\n",
            "60000/60000 [==============================] - 8s 126us/step - loss: 0.0823\n",
            "Epoch 14/15\n",
            "60000/60000 [==============================] - 8s 127us/step - loss: 0.0820\n",
            "Epoch 15/15\n",
            "60000/60000 [==============================] - 8s 128us/step - loss: 0.0818\n"
          ],
          "name": "stdout"
        },
        {
          "output_type": "execute_result",
          "data": {
            "text/plain": [
              "<keras.callbacks.History at 0x7f3dad292cc0>"
            ]
          },
          "metadata": {
            "tags": []
          },
          "execution_count": 6
        }
      ]
    },
    {
      "cell_type": "markdown",
      "metadata": {
        "id": "sEWPYEfzy4Um",
        "colab_type": "text"
      },
      "source": [
        "Note that all the layers use the relu activation function, as it’s the standard with deep neural networks. The last layer uses the sigmoid activation because we need the outputs to be between [0, 1]. The input is also in the same range."
      ]
    },
    {
      "cell_type": "code",
      "metadata": {
        "id": "fTVdVEXgoOjs",
        "colab_type": "code",
        "outputId": "5129651b-e9d6-404f-e5c1-60faa458a9e6",
        "colab": {
          "base_uri": "https://localhost:8080/",
          "height": 277
        }
      },
      "source": [
        "plot_autoencoder_outputs(autoencoder, 5, (28, 28))"
      ],
      "execution_count": 7,
      "outputs": [
        {
          "output_type": "display_data",
          "data": {
            "image/png": "[encoded data removed]",
            "text/plain": [
              "<Figure size 720x324 with 10 Axes>"
            ]
          },
          "metadata": {
            "tags": []
          }
        }
      ]
    },
    {
      "cell_type": "markdown",
      "metadata": {
        "id": "7qUDWOjcqrvi",
        "colab_type": "text"
      },
      "source": [
        "First row is the original image while 2nd row is their predicted versions"
      ]
    },
    {
      "cell_type": "markdown",
      "metadata": {
        "id": "cNGjzGdhv2M0",
        "colab_type": "text"
      },
      "source": [
        "# **Shallow AutoEncoder**"
      ]
    },
    {
      "cell_type": "code",
      "metadata": {
        "id": "h4AYmlEqqTIg",
        "colab_type": "code",
        "outputId": "957098ba-f707-4d10-b0a1-1bb9d19d6f5f",
        "colab": {
          "base_uri": "https://localhost:8080/",
          "height": 544
        }
      },
      "source": [
        "input_size = 784\n",
        "code_size = 32\n",
        "\n",
        "input_img = Input(shape=(input_size,))\n",
        "code = Dense(code_size, activation='relu')(input_img)\n",
        "output_img = Dense(input_size, activation='sigmoid')(code)\n",
        "\n",
        "shallow_autoencoder = Model(input_img, output_img)\n",
        "shallow_autoencoder.compile(optimizer='adam', loss='binary_crossentropy')\n",
        "shallow_autoencoder.fit(x_train, x_train, epochs=15)"
      ],
      "execution_count": 8,
      "outputs": [
        {
          "output_type": "stream",
          "text": [
            "Epoch 1/15\n",
            "60000/60000 [==============================] - 5s 90us/step - loss: 0.1616\n",
            "Epoch 2/15\n",
            "60000/60000 [==============================] - 5s 85us/step - loss: 0.1043\n",
            "Epoch 3/15\n",
            "60000/60000 [==============================] - 5s 86us/step - loss: 0.0964\n",
            "Epoch 4/15\n",
            "60000/60000 [==============================] - 5s 84us/step - loss: 0.0951\n",
            "Epoch 5/15\n",
            "60000/60000 [==============================] - 5s 86us/step - loss: 0.0947\n",
            "Epoch 6/15\n",
            "60000/60000 [==============================] - 5s 85us/step - loss: 0.0944\n",
            "Epoch 7/15\n",
            "60000/60000 [==============================] - 5s 86us/step - loss: 0.0943\n",
            "Epoch 8/15\n",
            "60000/60000 [==============================] - 5s 84us/step - loss: 0.0941\n",
            "Epoch 9/15\n",
            "60000/60000 [==============================] - 5s 86us/step - loss: 0.0940\n",
            "Epoch 10/15\n",
            "60000/60000 [==============================] - 5s 85us/step - loss: 0.0939\n",
            "Epoch 11/15\n",
            "60000/60000 [==============================] - 5s 86us/step - loss: 0.0938\n",
            "Epoch 12/15\n",
            "60000/60000 [==============================] - 5s 85us/step - loss: 0.0937\n",
            "Epoch 13/15\n",
            "60000/60000 [==============================] - 5s 85us/step - loss: 0.0937\n",
            "Epoch 14/15\n",
            "60000/60000 [==============================] - 5s 84us/step - loss: 0.0936\n",
            "Epoch 15/15\n",
            "60000/60000 [==============================] - 5s 86us/step - loss: 0.0935\n"
          ],
          "name": "stdout"
        },
        {
          "output_type": "execute_result",
          "data": {
            "text/plain": [
              "<keras.callbacks.History at 0x7f3d8e435eb8>"
            ]
          },
          "metadata": {
            "tags": []
          },
          "execution_count": 8
        }
      ]
    },
    {
      "cell_type": "code",
      "metadata": {
        "id": "UlgJJW7QwKjA",
        "colab_type": "code",
        "outputId": "53aaf72b-e62f-437b-c9fe-010837314211",
        "colab": {
          "base_uri": "https://localhost:8080/",
          "height": 277
        }
      },
      "source": [
        "plot_autoencoder_outputs(shallow_autoencoder, 5, (28, 28))"
      ],
      "execution_count": 9,
      "outputs": [
        {
          "output_type": "display_data",
          "data": {
            "image/png": "[encoded data removed]",
            "text/plain": [
              "<Figure size 720x324 with 10 Axes>"
            ]
          },
          "metadata": {
            "tags": []
          }
        }
      ]
    },
    {
      "cell_type": "markdown",
      "metadata": {
        "id": "xJNsjQjbw0F1",
        "colab_type": "text"
      },
      "source": [
        "Images by deep autoencoder is more clean and better as compare to shallow auto encoder but there is one disadvantage in deep autoencoder which is overfitting."
      ]
    },
    {
      "cell_type": "markdown",
      "metadata": {
        "id": "6v_xbOOvUuqP",
        "colab_type": "text"
      },
      "source": [
        "# Denoising AutoEncoder"
      ]
    },
    {
      "cell_type": "code",
      "metadata": {
        "id": "bHzraVwZwhSh",
        "colab_type": "code",
        "colab": {}
      },
      "source": [
        "def white_patch(y):#this function creates white patch just like tide washing powder\n",
        "  x=np.reshape(y,[28,28]).copy()\n",
        "  x[10:17,10:17]=1\n",
        "  return x\n",
        "\n"
      ],
      "execution_count": 0,
      "outputs": []
    },
    {
      "cell_type": "code",
      "metadata": {
        "id": "0Cig8X5YVe38",
        "colab_type": "code",
        "outputId": "80d61226-a002-4e90-972f-daa0c6bcd6f8",
        "colab": {
          "base_uri": "https://localhost:8080/",
          "height": 51
        }
      },
      "source": [
        "noisy_X=[]\n",
        "noisy_x_test=[]\n",
        "for i in range(len(x_train)):\n",
        "  noisy_X.append(white_patch(x_train[i]))\n",
        "noisy_X=np.array(noisy_X).reshape(len(x_train),784)\n",
        "for i in range(len(x_test)):\n",
        "  noisy_x_test.append(white_patch(x_test[i]))\n",
        "noisy_x_test=np.array(noisy_x_test).reshape(len(x_test),784)\n",
        "print(\"Noisy train shape: \",noisy_X.shape)\n",
        "print(\"Noisy test shape: \",noisy_x_test.shape)"
      ],
      "execution_count": 38,
      "outputs": [
        {
          "output_type": "stream",
          "text": [
            "Noisy train shape:  (60000, 784)\n",
            "Noisy test shape:  (10000, 784)\n"
          ],
          "name": "stdout"
        }
      ]
    },
    {
      "cell_type": "markdown",
      "metadata": {
        "id": "d7ozoJL-Yasu",
        "colab_type": "text"
      },
      "source": [
        "## Utility function"
      ]
    },
    {
      "cell_type": "code",
      "metadata": {
        "id": "XM_slYjFXeW3",
        "colab_type": "code",
        "colab": {}
      },
      "source": [
        "def plot_noisy_autoencoder_outputs(autoencoder, n, dims):\n",
        "    decoded_imgs = autoencoder.predict(noisy_x_test)\n",
        "\n",
        "    # number of example digits to show\n",
        "    n = 5\n",
        "    plt.figure(figsize=(15, 7.5))\n",
        "    for i in range(n):\n",
        "        # plot original image\n",
        "        ax = plt.subplot(3, n, i + 1)\n",
        "        plt.imshow(noisy_x_test[i].reshape(*dims))\n",
        "        plt.gray()\n",
        "        ax.get_xaxis().set_visible(False)\n",
        "        ax.get_yaxis().set_visible(False)\n",
        "        \n",
        "        ax.set_title('noisy Images')\n",
        "\n",
        "        # plot reconstruction \n",
        "        ax = plt.subplot(3, n, i + 1 + n)\n",
        "        plt.imshow(decoded_imgs[i].reshape(*dims))\n",
        "        plt.gray()\n",
        "        ax.get_xaxis().set_visible(False)\n",
        "        ax.get_yaxis().set_visible(False)\n",
        "        \n",
        "        ax.set_title('Reconstructed ')\n",
        "        \n",
        "        ax = plt.subplot(3, n, i + 1+2*n)\n",
        "        plt.imshow(x_test[i].reshape(*dims))\n",
        "        plt.gray()\n",
        "        ax.get_xaxis().set_visible(False)\n",
        "        ax.get_yaxis().set_visible(False)\n",
        "        \n",
        "        ax.set_title('original Images')\n",
        "    plt.show()"
      ],
      "execution_count": 0,
      "outputs": []
    },
    {
      "cell_type": "markdown",
      "metadata": {
        "id": "-eIjdEyYZZux",
        "colab_type": "text"
      },
      "source": [
        "## Deep Noisy Auto Encoder"
      ]
    },
    {
      "cell_type": "code",
      "metadata": {
        "id": "mVSI062LZYbZ",
        "colab_type": "code",
        "outputId": "b0cd6d38-89e8-485b-a914-85f655d7aa8a",
        "colab": {
          "base_uri": "https://localhost:8080/",
          "height": 1000
        }
      },
      "source": [
        "input_size = 784\n",
        "hidden_size1 = 256\n",
        "hidden_size2 = 128\n",
        "code_size = 32\n",
        "\n",
        "input_img = Input(shape=(input_size,))\n",
        "hidden_1 = Dense(hidden_size1, activation='tanh')(input_img)\n",
        "hidden_2=Dense(hidden_size2,activation='relu')(hidden_1)\n",
        "code = Dense(code_size, activation='relu')(hidden_2)\n",
        "hidden_3 = Dense(hidden_size2, activation='relu')(code)\n",
        "hidden_4 = Dense(hidden_size1,activation='tanh')(hidden_3)\n",
        "output_img = Dense(input_size, activation='sigmoid')(hidden_4)\n",
        "\n",
        "noisy_autoencoder = Model(input_img, output_img)\n",
        "noisy_autoencoder.compile(optimizer='adam', loss='binary_crossentropy')\n",
        "noisy_autoencoder.fit(noisy_X, x_train, epochs=30)"
      ],
      "execution_count": 40,
      "outputs": [
        {
          "output_type": "stream",
          "text": [
            "Epoch 1/30\n",
            "60000/60000 [==============================] - 9s 142us/step - loss: 0.1859\n",
            "Epoch 2/30\n",
            "60000/60000 [==============================] - 8s 129us/step - loss: 0.1206\n",
            "Epoch 3/30\n",
            "60000/60000 [==============================] - 8s 130us/step - loss: 0.1073\n",
            "Epoch 4/30\n",
            "60000/60000 [==============================] - 8s 128us/step - loss: 0.1016\n",
            "Epoch 5/30\n",
            "60000/60000 [==============================] - 8s 129us/step - loss: 0.0985\n",
            "Epoch 6/30\n",
            "60000/60000 [==============================] - 8s 129us/step - loss: 0.0965\n",
            "Epoch 7/30\n",
            "60000/60000 [==============================] - 8s 131us/step - loss: 0.0950\n",
            "Epoch 8/30\n",
            "60000/60000 [==============================] - 8s 132us/step - loss: 0.0939\n",
            "Epoch 9/30\n",
            "60000/60000 [==============================] - 8s 129us/step - loss: 0.0931\n",
            "Epoch 10/30\n",
            "60000/60000 [==============================] - 8s 133us/step - loss: 0.0922\n",
            "Epoch 11/30\n",
            "60000/60000 [==============================] - 8s 136us/step - loss: 0.0917\n",
            "Epoch 12/30\n",
            "60000/60000 [==============================] - 8s 131us/step - loss: 0.0911\n",
            "Epoch 13/30\n",
            "60000/60000 [==============================] - 8s 133us/step - loss: 0.0907\n",
            "Epoch 14/30\n",
            "60000/60000 [==============================] - 8s 129us/step - loss: 0.0903\n",
            "Epoch 15/30\n",
            "60000/60000 [==============================] - 8s 129us/step - loss: 0.0900\n",
            "Epoch 16/30\n",
            "60000/60000 [==============================] - 8s 129us/step - loss: 0.0896\n",
            "Epoch 17/30\n",
            "60000/60000 [==============================] - 8s 129us/step - loss: 0.0893\n",
            "Epoch 18/30\n",
            "60000/60000 [==============================] - 8s 128us/step - loss: 0.0891\n",
            "Epoch 19/30\n",
            "60000/60000 [==============================] - 8s 130us/step - loss: 0.0888\n",
            "Epoch 20/30\n",
            "60000/60000 [==============================] - 8s 129us/step - loss: 0.0885\n",
            "Epoch 21/30\n",
            "60000/60000 [==============================] - 8s 129us/step - loss: 0.0883\n",
            "Epoch 22/30\n",
            "60000/60000 [==============================] - 8s 129us/step - loss: 0.0881\n",
            "Epoch 23/30\n",
            "60000/60000 [==============================] - 8s 130us/step - loss: 0.0880\n",
            "Epoch 24/30\n",
            "60000/60000 [==============================] - 8s 130us/step - loss: 0.0878\n",
            "Epoch 25/30\n",
            "60000/60000 [==============================] - 8s 128us/step - loss: 0.0876\n",
            "Epoch 26/30\n",
            "60000/60000 [==============================] - 8s 129us/step - loss: 0.0875\n",
            "Epoch 27/30\n",
            "60000/60000 [==============================] - 8s 129us/step - loss: 0.0873\n",
            "Epoch 28/30\n",
            "60000/60000 [==============================] - 8s 129us/step - loss: 0.0872\n",
            "Epoch 29/30\n",
            "60000/60000 [==============================] - 8s 129us/step - loss: 0.0870\n",
            "Epoch 30/30\n",
            "60000/60000 [==============================] - 8s 128us/step - loss: 0.0869\n"
          ],
          "name": "stdout"
        },
        {
          "output_type": "execute_result",
          "data": {
            "text/plain": [
              "<keras.callbacks.History at 0x7f3d431e5fd0>"
            ]
          },
          "metadata": {
            "tags": []
          },
          "execution_count": 40
        }
      ]
    },
    {
      "cell_type": "code",
      "metadata": {
        "id": "rQ2oA8IVZu0p",
        "colab_type": "code",
        "outputId": "cbd1ad5d-21e7-4817-84ae-fce783f6369f",
        "colab": {
          "base_uri": "https://localhost:8080/",
          "height": 455
        }
      },
      "source": [
        " plot_noisy_autoencoder_outputs(noisy_autoencoder,5,(28,28))"
      ],
      "execution_count": 41,
      "outputs": [
        {
          "output_type": "display_data",
          "data": {
            "image/png": "[encoded data removed]",
            "text/plain": [
              "<Figure size 1080x540 with 15 Axes>"
            ]
          },
          "metadata": {
            "tags": []
          }
        }
      ]
    },
    {
      "cell_type": "markdown",
      "metadata": {
        "id": "Ipq9wPBmbWK3",
        "colab_type": "text"
      },
      "source": [
        "## Shallow noisy AutoEncoder"
      ]
    },
    {
      "cell_type": "code",
      "metadata": {
        "id": "f_5BzQ9raOpe",
        "colab_type": "code",
        "colab": {
          "base_uri": "https://localhost:8080/",
          "height": 1000
        },
        "outputId": "4541ff6d-2fc7-4a42-a7f5-4e77a9a90360"
      },
      "source": [
        "input_size = 784\n",
        "code_size = 32\n",
        "\n",
        "input_img = Input(shape=(input_size,))\n",
        "code = Dense(code_size, activation='relu')(input_img)\n",
        "output_img = Dense(input_size, activation='sigmoid')(code)\n",
        "\n",
        "shallow_autoencoder = Model(input_img, output_img)\n",
        "shallow_autoencoder.compile(optimizer='adam', loss='binary_crossentropy')\n",
        "shallow_autoencoder.fit(noisy_X, x_train, epochs=30)"
      ],
      "execution_count": 43,
      "outputs": [
        {
          "output_type": "stream",
          "text": [
            "Epoch 1/30\n",
            "60000/60000 [==============================] - 6s 102us/step - loss: 0.1598\n",
            "Epoch 2/30\n",
            "60000/60000 [==============================] - 5s 91us/step - loss: 0.1117\n",
            "Epoch 3/30\n",
            "60000/60000 [==============================] - 5s 90us/step - loss: 0.1081\n",
            "Epoch 4/30\n",
            "60000/60000 [==============================] - 5s 91us/step - loss: 0.1072\n",
            "Epoch 5/30\n",
            "60000/60000 [==============================] - 5s 90us/step - loss: 0.1068\n",
            "Epoch 6/30\n",
            "60000/60000 [==============================] - 5s 91us/step - loss: 0.1066\n",
            "Epoch 7/30\n",
            "60000/60000 [==============================] - 5s 90us/step - loss: 0.1064\n",
            "Epoch 8/30\n",
            "60000/60000 [==============================] - 5s 91us/step - loss: 0.1063\n",
            "Epoch 9/30\n",
            "60000/60000 [==============================] - 5s 91us/step - loss: 0.1062\n",
            "Epoch 10/30\n",
            "60000/60000 [==============================] - 5s 91us/step - loss: 0.1061\n",
            "Epoch 11/30\n",
            "60000/60000 [==============================] - 5s 91us/step - loss: 0.1060\n",
            "Epoch 12/30\n",
            "60000/60000 [==============================] - 5s 91us/step - loss: 0.1060\n",
            "Epoch 13/30\n",
            "60000/60000 [==============================] - 5s 90us/step - loss: 0.1059\n",
            "Epoch 14/30\n",
            "60000/60000 [==============================] - 5s 90us/step - loss: 0.1059\n",
            "Epoch 15/30\n",
            "60000/60000 [==============================] - 5s 90us/step - loss: 0.1058\n",
            "Epoch 16/30\n",
            "60000/60000 [==============================] - 5s 90us/step - loss: 0.1058\n",
            "Epoch 17/30\n",
            "60000/60000 [==============================] - 5s 90us/step - loss: 0.1057\n",
            "Epoch 18/30\n",
            "60000/60000 [==============================] - 5s 90us/step - loss: 0.1057\n",
            "Epoch 19/30\n",
            "60000/60000 [==============================] - 5s 90us/step - loss: 0.1056\n",
            "Epoch 20/30\n",
            "60000/60000 [==============================] - 5s 90us/step - loss: 0.1056\n",
            "Epoch 21/30\n",
            "60000/60000 [==============================] - 5s 90us/step - loss: 0.1056\n",
            "Epoch 22/30\n",
            "60000/60000 [==============================] - 5s 90us/step - loss: 0.1055\n",
            "Epoch 23/30\n",
            "60000/60000 [==============================] - 5s 90us/step - loss: 0.1055\n",
            "Epoch 24/30\n",
            "60000/60000 [==============================] - 5s 90us/step - loss: 0.1055\n",
            "Epoch 25/30\n",
            "60000/60000 [==============================] - 5s 91us/step - loss: 0.1054\n",
            "Epoch 26/30\n",
            "60000/60000 [==============================] - 5s 91us/step - loss: 0.1054\n",
            "Epoch 27/30\n",
            "60000/60000 [==============================] - 5s 90us/step - loss: 0.1054\n",
            "Epoch 28/30\n",
            "60000/60000 [==============================] - 5s 89us/step - loss: 0.1053\n",
            "Epoch 29/30\n",
            "60000/60000 [==============================] - 5s 90us/step - loss: 0.1053\n",
            "Epoch 30/30\n",
            "60000/60000 [==============================] - 5s 90us/step - loss: 0.1053\n"
          ],
          "name": "stdout"
        },
        {
          "output_type": "execute_result",
          "data": {
            "text/plain": [
              "<keras.callbacks.History at 0x7f3d433959b0>"
            ]
          },
          "metadata": {
            "tags": []
          },
          "execution_count": 43
        }
      ]
    },
    {
      "cell_type": "code",
      "metadata": {
        "id": "RSVW3YpEbyo9",
        "colab_type": "code",
        "colab": {
          "base_uri": "https://localhost:8080/",
          "height": 455
        },
        "outputId": "8899c88e-e31c-4684-ce8f-b029db698bfb"
      },
      "source": [
        " plot_noisy_autoencoder_outputs(shallow_autoencoder,5,(28,28))"
      ],
      "execution_count": 44,
      "outputs": [
        {
          "output_type": "display_data",
          "data": {
            "image/png": "[encoded data removed]",
            "text/plain": [
              "<Figure size 1080x540 with 15 Axes>"
            ]
          },
          "metadata": {
            "tags": []
          }
        }
      ]
    },
    {
      "cell_type": "code",
      "metadata": {
        "id": "snn1GWKXci5W",
        "colab_type": "code",
        "colab": {}
      },
      "source": [
        ""
      ],
      "execution_count": 0,
      "outputs": []
    }
  ]
}